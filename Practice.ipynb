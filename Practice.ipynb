{
 "cells": [
  {
   "cell_type": "code",
   "execution_count": 3,
   "id": "7fbe4a20",
   "metadata": {},
   "outputs": [],
   "source": [
    "import torch\n",
    "import torch.nn as nn"
   ]
  },
  {
   "cell_type": "code",
   "execution_count": 2,
   "id": "f9800863",
   "metadata": {},
   "outputs": [],
   "source": [
    "x=torch.arange(0,5)"
   ]
  },
  {
   "cell_type": "code",
   "execution_count": 3,
   "id": "821acbd1",
   "metadata": {},
   "outputs": [
    {
     "data": {
      "text/plain": [
       "tensor([0, 1, 2, 3, 4])"
      ]
     },
     "execution_count": 3,
     "metadata": {},
     "output_type": "execute_result"
    }
   ],
   "source": [
    "x\n"
   ]
  },
  {
   "cell_type": "code",
   "execution_count": 9,
   "id": "2c5ff1c2",
   "metadata": {},
   "outputs": [],
   "source": [
    "x=torch.arange(0,5).unsqueeze(1).expand(5,10)\n"
   ]
  },
  {
   "cell_type": "code",
   "execution_count": 10,
   "id": "5ce0db63",
   "metadata": {},
   "outputs": [
    {
     "data": {
      "text/plain": [
       "tensor([[0, 0, 0, 0, 0, 0, 0, 0, 0, 0],\n",
       "        [1, 1, 1, 1, 1, 1, 1, 1, 1, 1],\n",
       "        [2, 2, 2, 2, 2, 2, 2, 2, 2, 2],\n",
       "        [3, 3, 3, 3, 3, 3, 3, 3, 3, 3],\n",
       "        [4, 4, 4, 4, 4, 4, 4, 4, 4, 4]])"
      ]
     },
     "execution_count": 10,
     "metadata": {},
     "output_type": "execute_result"
    }
   ],
   "source": [
    "x\n"
   ]
  },
  {
   "cell_type": "code",
   "execution_count": 11,
   "id": "a9a863c9",
   "metadata": {},
   "outputs": [
    {
     "data": {
      "text/plain": [
       "[1, 2, 3]"
      ]
     },
     "execution_count": 11,
     "metadata": {},
     "output_type": "execute_result"
    }
   ],
   "source": [
    "a=[1,2,3,4]\n",
    "b=a[:-1]\n",
    "b"
   ]
  },
  {
   "cell_type": "code",
   "execution_count": 13,
   "id": "12bd32e2",
   "metadata": {},
   "outputs": [
    {
     "data": {
      "text/plain": [
       "tensor([[0, 0],\n",
       "        [0, 0],\n",
       "        [0, 0],\n",
       "        [0, 0],\n",
       "        [0, 0],\n",
       "        [1, 1],\n",
       "        [1, 1],\n",
       "        [1, 1],\n",
       "        [1, 1],\n",
       "        [1, 1],\n",
       "        [2, 2],\n",
       "        [2, 2],\n",
       "        [2, 2],\n",
       "        [2, 2],\n",
       "        [2, 2],\n",
       "        [3, 3],\n",
       "        [3, 3],\n",
       "        [3, 3],\n",
       "        [3, 3],\n",
       "        [3, 3],\n",
       "        [4, 4],\n",
       "        [4, 4],\n",
       "        [4, 4],\n",
       "        [4, 4],\n",
       "        [4, 4]])"
      ]
     },
     "execution_count": 13,
     "metadata": {},
     "output_type": "execute_result"
    }
   ],
   "source": [
    "x=x.reshape(25,2)\n",
    "x"
   ]
  },
  {
   "cell_type": "code",
   "execution_count": 16,
   "id": "0cf58071",
   "metadata": {},
   "outputs": [
    {
     "data": {
      "text/plain": [
       "tensor([[0, 0, 0, 0, 0],\n",
       "        [0, 0, 0, 0, 0],\n",
       "        [1, 1, 1, 1, 1],\n",
       "        [1, 1, 1, 1, 1],\n",
       "        [2, 2, 2, 2, 2],\n",
       "        [2, 2, 2, 2, 2],\n",
       "        [3, 3, 3, 3, 3],\n",
       "        [3, 3, 3, 3, 3],\n",
       "        [4, 4, 4, 4, 4],\n",
       "        [4, 4, 4, 4, 4]])"
      ]
     },
     "execution_count": 16,
     "metadata": {},
     "output_type": "execute_result"
    }
   ],
   "source": [
    "x.reshape(-1,5)"
   ]
  },
  {
   "cell_type": "code",
   "execution_count": 8,
   "id": "2947870c",
   "metadata": {},
   "outputs": [],
   "source": [
    "import torch \n",
    "import torch.nn as nn\n",
    "import numpy as np\n",
    "import torch.nn.functional as F"
   ]
  },
  {
   "cell_type": "code",
   "execution_count": null,
   "id": "56e7cf63",
   "metadata": {},
   "outputs": [],
   "source": [
    "import os\n",
    "from copy import deepcopy\n",
    "from dataclasses import dataclass\n",
    "from typing import Dict, List, Optional, Tuple\n",
    "from datasets import load_dataset, set_caching_enabled\n",
    "import numpy as np\n",
    "from PIL import Image\n",
    "import torch\n",
    "import torch.nn as nn\n",
    "from transformers import (\n",
    "    # Preprocessing / Common\n",
    "    AutoTokenizer, AutoFeatureExtractor,  \n",
    "    # Misc\n",
    "    logging\n",
    ")\n",
    "\n",
    "from sklearn.metrics import accuracy_score, f1_score\n",
    "\n",
    "# SET CACHE FOR HUGGINGFACE TRANSFORMERS + DATASETS\n",
    "os.environ['HF_HOME'] = os.path.join(\".\", \"cache\")\n",
    "# SET ONLY 1 GPU DEVICE\n",
    "os.environ['CUDA_VISIBLE_DEVICES'] = '0'\n",
    "\n",
    "set_caching_enabled(True)\n",
    "logging.set_verbosity_error()\n",
    "\n",
    "device = torch.device('cuda:0' if torch.cuda.is_available() else 'cpu')"
   ]
  },
  {
   "cell_type": "code",
   "execution_count": 1,
   "id": "4a73e862",
   "metadata": {},
   "outputs": [
    {
     "ename": "SyntaxError",
     "evalue": "unexpected EOF while parsing (<ipython-input-1-0084013249dc>, line 1)",
     "output_type": "error",
     "traceback": [
      "\u001b[0;36m  File \u001b[0;32m\"<ipython-input-1-0084013249dc>\"\u001b[0;36m, line \u001b[0;32m1\u001b[0m\n\u001b[0;31m    class MANN(nn.Module):\u001b[0m\n\u001b[0m                          ^\u001b[0m\n\u001b[0;31mSyntaxError\u001b[0m\u001b[0;31m:\u001b[0m unexpected EOF while parsing\n"
     ]
    }
   ],
   "source": [
    "class MANN(nn.Module):\n",
    "    \n",
    "    def __init__(self,):\n",
    "        super(MANN,self).__init__()\n",
    "        self.num_"
   ]
  },
  {
   "cell_type": "code",
   "execution_count": null,
   "id": "da0e9483",
   "metadata": {},
   "outputs": [],
   "source": [
    "class Encoder(nn.Module):\n"
   ]
  },
  {
   "cell_type": "code",
   "execution_count": 9,
   "id": "4f9f0851",
   "metadata": {},
   "outputs": [],
   "source": [
    "class CoAttention(nn.Module):\n",
    "    def __init__(self,):\n",
    "        super(VQAModel,self).__init__()\n",
    "        slef.tanh=nn.tanh()\n",
    "        self.wv=nn.Parameter()\n",
    "        self.wh=nn.Parameter()\n",
    "        self.wm=nn.parameter()\n",
    "        self.wq=nn.Parameter()\n",
    "        \n",
    "    def forward(self,img,qst): \n",
    "        mo=torch.mul(img,qst) #img: B x 512 x N\n",
    "        N=torch.size(img)[2]\n",
    "        T=torch.size(qst)[2]\n",
    "        vo=self.tanh(torch.mul(torch.sum(img,dim=2),1/N) \n",
    "        qo=torch.mul(torch.sum(img,dim=2),1/T)\n",
    "        x=self.tanh(torch.matmul(self.wm,mo))\n",
    "        hn=torch.mul(self.tanh(torch.matmul(self.wv,img)),x)\n",
    "        ht=torch.mul(self.tanh(torch.matmul(self.wq,qsr)),x)\n",
    "        alphan=F.softmax(torch.matmul(self.wh,hn),dim=2)\n",
    "        alphat=F.softmax(torch.matmul(self.wh,ht),dim=2)\n",
    "        v=self.tanh(torch.sum(torch.matmul(alphan,img),dim=2))\n",
    "        q=torch.sum(torch.matmul(alphan,qst),dim=2)\n",
    "        x=torch.cat(v,q)\n",
    "        return x"
   ]
  },
  {
   "cell_type": "code",
   "execution_count": null,
   "id": "1d02d482",
   "metadata": {},
   "outputs": [],
   "source": [
    "class MANN(nn.Module):\n",
    "    def __init__(self,batch,row,col):\n",
    "        super(MANN,self).__init__()\n",
    "        self.n=row\n",
    "        self.m=col\n",
    "        self.memory=torch.rand(row,col)\n",
    "        self.lstm=nn.LSTM()\n",
    "        self.cosine=nn.CosineSimilarity()\n",
    "        self.gamma=0.95\n",
    "        self.wtu=torch.zeros(batch,col)\n",
    "        self.wtw=torch.zeros(batch,col)\n",
    "        \n",
    "    def forward(self,vec,prev):\n",
    "        ot,(ht,ct)=self.lstm(vec,prev)\n",
    "        # ot=B x m , # d= B x n\n",
    "        wtr=F.softmax(F.CosineSimilarity(ot.unsqueeze(1),self.memory.unsqueeze(0)))\n",
    "        rt=torch.matmul(wrt,self.memory)\n",
    "        self.wtw=\n",
    "        self.wtu=gamma*self.wtu+wtr+wtw\n",
    "        "
   ]
  },
  {
   "cell_type": "code",
   "execution_count": 7,
   "id": "28530ad1",
   "metadata": {},
   "outputs": [
    {
     "ename": "SyntaxError",
     "evalue": "unexpected EOF while parsing (<ipython-input-7-ab3c95d3f601>, line 13)",
     "output_type": "error",
     "traceback": [
      "\u001b[0;36m  File \u001b[0;32m\"<ipython-input-7-ab3c95d3f601>\"\u001b[0;36m, line \u001b[0;32m13\u001b[0m\n\u001b[0;31m    def forward(self, img, qst):\u001b[0m\n\u001b[0m                                ^\u001b[0m\n\u001b[0;31mSyntaxError\u001b[0m\u001b[0;31m:\u001b[0m unexpected EOF while parsing\n"
     ]
    }
   ],
   "source": [
    "class VqaModel(nn.Module):\n",
    "\n",
    "    def __init__(self, embed_size, qst_vocab_size, ans_vocab_size, word_embed_size, num_layers, hidden_size):\n",
    "\n",
    "        super(VqaModel, self).__init__()\n",
    "        self.img_encoder = ImgEncoder(embed_size)\n",
    "        self.qst_encoder = QstEncoder(qst_vocab_size, word_embed_size, embed_size, num_layers, hidden_size)\n",
    "        self.co_attention = CoAttention(embed_size)\n",
    "        self.lstm=MANN(word_embed_size,hidden_size,num_layers)\n",
    "        self.tanh = nn.Tanh()\n",
    "        self.dropout = nn.Dropout(0.5)\n",
    "        self.fc1 = nn.Linear(embed_size, ans_vocab_size)\n",
    "        self.fc2 = nn.Linear(ans_vocab_size, ans_vocab_size)\n",
    "\n",
    "    def forward(self, img, qst):\n",
    "        img_feature=self.img_encoder(img)\n",
    "        qst_encoder=self.qst_encoder(qst)\n",
    "        combine_feature=self.co_attention(img_feature,qst_feature)\n",
    "        \n",
    "        "
   ]
  },
  {
   "cell_type": "code",
   "execution_count": 15,
   "id": "7667a5d8",
   "metadata": {},
   "outputs": [
    {
     "data": {
      "text/plain": [
       "tensor([[-1.8451, -0.3515,  0.9355,  0.2573, -0.4129],\n",
       "        [ 1.4813, -0.7109,  3.5683,  0.4053, -2.3847],\n",
       "        [ 0.5110,  1.2358,  1.5478,  1.7154,  2.0890],\n",
       "        [ 3.1545,  0.9958,  0.2002,  1.3693,  1.5510],\n",
       "        [ 4.7096,  1.0580, -2.8520,  1.1044, -2.4724],\n",
       "        [-0.2028,  5.1461, -2.0014, -1.0448, -0.5776]])"
      ]
     },
     "execution_count": 15,
     "metadata": {},
     "output_type": "execute_result"
    }
   ],
   "source": [
    "x=torch.randn(6,5,4)\n",
    "y = torch.sum(x,dim=2)\n",
    "y"
   ]
  },
  {
   "cell_type": "code",
   "execution_count": 16,
   "id": "f8d40000",
   "metadata": {},
   "outputs": [],
   "source": [
    "z=torch.mul(y,10)"
   ]
  },
  {
   "cell_type": "code",
   "execution_count": 17,
   "id": "1270aa60",
   "metadata": {},
   "outputs": [
    {
     "data": {
      "text/plain": [
       "tensor([[-18.4508,  -3.5154,   9.3553,   2.5731,  -4.1286],\n",
       "        [ 14.8128,  -7.1095,  35.6826,   4.0532, -23.8470],\n",
       "        [  5.1100,  12.3576,  15.4779,  17.1542,  20.8901],\n",
       "        [ 31.5452,   9.9576,   2.0021,  13.6927,  15.5100],\n",
       "        [ 47.0957,  10.5800, -28.5197,  11.0445, -24.7240],\n",
       "        [ -2.0282,  51.4614, -20.0142, -10.4480,  -5.7763]])"
      ]
     },
     "execution_count": 17,
     "metadata": {},
     "output_type": "execute_result"
    }
   ],
   "source": [
    "z"
   ]
  },
  {
   "cell_type": "code",
   "execution_count": 10,
   "id": "999eb0e0",
   "metadata": {},
   "outputs": [
    {
     "data": {
      "text/plain": [
       "torch.Size([3, 3, 2])"
      ]
     },
     "execution_count": 10,
     "metadata": {},
     "output_type": "execute_result"
    }
   ],
   "source": [
    "x=torch.tensor([[[1,2],[2,3],[12,13]],[[4,5],[6,7],[14,15]],[[8,9],[10,11],[16,17]]])\n",
    "x.size()"
   ]
  },
  {
   "cell_type": "code",
   "execution_count": 11,
   "id": "136ce330",
   "metadata": {},
   "outputs": [
    {
     "data": {
      "text/plain": [
       "torch.Size([2, 3])"
      ]
     },
     "execution_count": 11,
     "metadata": {},
     "output_type": "execute_result"
    }
   ],
   "source": [
    "y=torch.tensor([[2,2,2],[3,3,3]])\n",
    "y.size()\n",
    "#z=torch.mul(y,x)\n",
    "#z"
   ]
  },
  {
   "cell_type": "code",
   "execution_count": 12,
   "id": "18b0f565",
   "metadata": {},
   "outputs": [
    {
     "data": {
      "text/plain": [
       "tensor([[[ 30,  36],\n",
       "         [ 45,  54]],\n",
       "\n",
       "        [[ 48,  54],\n",
       "         [ 72,  81]],\n",
       "\n",
       "        [[ 68,  74],\n",
       "         [102, 111]]])"
      ]
     },
     "execution_count": 12,
     "metadata": {},
     "output_type": "execute_result"
    }
   ],
   "source": [
    "z=torch.matmul(y,x)\n",
    "z"
   ]
  },
  {
   "cell_type": "code",
   "execution_count": 31,
   "id": "7e2e7e1e",
   "metadata": {},
   "outputs": [
    {
     "name": "stdout",
     "output_type": "stream",
     "text": [
      "torch.Size([2, 2, 3])\n"
     ]
    }
   ],
   "source": [
    "x=torch.rand(2,2,3)\n",
    "print(x.size())"
   ]
  },
  {
   "cell_type": "code",
   "execution_count": 34,
   "id": "b9c2b7af",
   "metadata": {},
   "outputs": [
    {
     "name": "stdout",
     "output_type": "stream",
     "text": [
      "torch.Size([1, 12])\n",
      "torch.Size([2, 2, 3])\n"
     ]
    }
   ],
   "source": [
    "y=x.view(1,-1)\n",
    "print(y.size())\n",
    "print(x.size())"
   ]
  },
  {
   "cell_type": "code",
   "execution_count": null,
   "id": "b661e27a",
   "metadata": {},
   "outputs": [],
   "source": [
    "# Batch * 512 * N\n",
    "# X* 512. (512*Batch*N)\n",
    "input x*y.  a*b. o m*n"
   ]
  },
  {
   "cell_type": "code",
   "execution_count": 35,
   "id": "9173e027",
   "metadata": {},
   "outputs": [
    {
     "name": "stdout",
     "output_type": "stream",
     "text": [
      "torch.Size([2, 3, 2])\n"
     ]
    }
   ],
   "source": [
    "z = x.permute(0,2,1)\n",
    "print(z.shape)"
   ]
  },
  {
   "cell_type": "code",
   "execution_count": 44,
   "id": "3fd771b0",
   "metadata": {},
   "outputs": [
    {
     "data": {
      "text/plain": [
       "tensor([[[0.1068, 0.1390, 0.8739, 0.4888]],\n",
       "\n",
       "        [[0.8493, 0.2095, 0.6482, 0.7653]],\n",
       "\n",
       "        [[0.3347, 0.3420, 0.6482, 0.9015]]])"
      ]
     },
     "execution_count": 44,
     "metadata": {},
     "output_type": "execute_result"
    }
   ],
   "source": [
    "x=torch.rand(3,1,4)\n",
    "x"
   ]
  },
  {
   "cell_type": "code",
   "execution_count": 45,
   "id": "87244a5a",
   "metadata": {},
   "outputs": [
    {
     "data": {
      "text/plain": [
       "tensor([[[0.5972, 0.5771, 0.1547, 0.5684],\n",
       "         [0.2786, 0.2047, 0.7883, 0.3405],\n",
       "         [0.6011, 0.5842, 0.6323, 0.9785],\n",
       "         [0.4867, 0.0694, 0.5061, 0.9609],\n",
       "         [0.7157, 0.8365, 0.1765, 0.5468]]])"
      ]
     },
     "execution_count": 45,
     "metadata": {},
     "output_type": "execute_result"
    }
   ],
   "source": [
    "y=torch.rand(1,5,4)\n",
    "y"
   ]
  },
  {
   "cell_type": "code",
   "execution_count": 9,
   "id": "206feeca",
   "metadata": {},
   "outputs": [
    {
     "data": {
      "text/plain": [
       "tensor([[[0.3440, 0.3215, 0.7998, 0.0162]],\n",
       "\n",
       "        [[0.4027, 0.1839, 0.2257, 0.3092]],\n",
       "\n",
       "        [[0.0732, 0.4191, 0.3115, 0.1809]]])"
      ]
     },
     "execution_count": 9,
     "metadata": {},
     "output_type": "execute_result"
    }
   ],
   "source": [
    "z=torch.unsqueeze(x,1)\n",
    "z"
   ]
  },
  {
   "cell_type": "code",
   "execution_count": 16,
   "id": "8f42e192",
   "metadata": {},
   "outputs": [
    {
     "ename": "RuntimeError",
     "evalue": "mat1 and mat2 shapes cannot be multiplied (3x4 and 1x4)",
     "output_type": "error",
     "traceback": [
      "\u001b[0;31m---------------------------------------------------------------------------\u001b[0m",
      "\u001b[0;31mRuntimeError\u001b[0m                              Traceback (most recent call last)",
      "\u001b[0;32m<ipython-input-16-6bb3059cb95e>\u001b[0m in \u001b[0;36m<module>\u001b[0;34m\u001b[0m\n\u001b[0;32m----> 1\u001b[0;31m \u001b[0mp\u001b[0m\u001b[0;34m=\u001b[0m\u001b[0mtorch\u001b[0m\u001b[0;34m.\u001b[0m\u001b[0mmatmul\u001b[0m\u001b[0;34m(\u001b[0m\u001b[0mz\u001b[0m\u001b[0;34m,\u001b[0m\u001b[0my\u001b[0m\u001b[0;34m)\u001b[0m\u001b[0;34m.\u001b[0m\u001b[0msqueeze\u001b[0m\u001b[0;34m(\u001b[0m\u001b[0;36m1\u001b[0m\u001b[0;34m)\u001b[0m\u001b[0;34m\u001b[0m\u001b[0;34m\u001b[0m\u001b[0m\n\u001b[0m\u001b[1;32m      2\u001b[0m \u001b[0mp\u001b[0m\u001b[0;34m\u001b[0m\u001b[0;34m\u001b[0m\u001b[0m\n",
      "\u001b[0;31mRuntimeError\u001b[0m: mat1 and mat2 shapes cannot be multiplied (3x4 and 1x4)"
     ]
    }
   ],
   "source": [
    "p=torch.matmul(z,y).squeeze(1)\n",
    "p"
   ]
  },
  {
   "cell_type": "code",
   "execution_count": 12,
   "id": "3cb3343a",
   "metadata": {},
   "outputs": [
    {
     "data": {
      "text/plain": [
       "tensor([[0.6594, 0.8127, 0.5172, 0.3291, 0.6717],\n",
       "        [0.4559, 0.4545, 0.5198, 0.5474, 0.4750],\n",
       "        [0.5167, 0.5673, 0.3702, 0.4282, 0.3334]])"
      ]
     },
     "execution_count": 12,
     "metadata": {},
     "output_type": "execute_result"
    }
   ],
   "source": [
    "torch.matmul(x,y)"
   ]
  },
  {
   "cell_type": "code",
   "execution_count": 46,
   "id": "cb5464c6",
   "metadata": {},
   "outputs": [
    {
     "data": {
      "text/plain": [
       "tensor([[0.5382, 0.9708, 0.8062, 0.8034, 0.4865],\n",
       "        [0.8586, 0.8532, 0.9380, 0.9400, 0.7963],\n",
       "        [0.8204, 0.8767, 0.9756, 0.9581, 0.7546]])"
      ]
     },
     "execution_count": 46,
     "metadata": {},
     "output_type": "execute_result"
    }
   ],
   "source": [
    "p=nn.CosineSimilarity(dim=2)\n",
    "p(x,y)"
   ]
  },
  {
   "cell_type": "code",
   "execution_count": null,
   "id": "291b8bcd",
   "metadata": {},
   "outputs": [],
   "source": []
  }
 ],
 "metadata": {
  "kernelspec": {
   "display_name": "Python 3",
   "language": "python",
   "name": "python3"
  },
  "language_info": {
   "codemirror_mode": {
    "name": "ipython",
    "version": 3
   },
   "file_extension": ".py",
   "mimetype": "text/x-python",
   "name": "python",
   "nbconvert_exporter": "python",
   "pygments_lexer": "ipython3",
   "version": "3.8.8"
  }
 },
 "nbformat": 4,
 "nbformat_minor": 5
}
